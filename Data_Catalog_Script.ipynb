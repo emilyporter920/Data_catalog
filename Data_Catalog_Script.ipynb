{
 "cells": [
  {
   "attachments": {},
   "cell_type": "markdown",
   "metadata": {},
   "source": [
    "# Data Catalog Python Script\n",
    "* Repository located here: https://github.com/emilyporter920/Data_Cataloging"
   ]
  },
  {
   "attachments": {},
   "cell_type": "markdown",
   "metadata": {},
   "source": [
    "## Import Libaries"
   ]
  },
  {
   "cell_type": "code",
   "execution_count": null,
   "metadata": {},
   "outputs": [],
   "source": [
    "# Import dependencies\n",
    "from snowflake.snowpark.session import Session\n",
    "import json\n",
    "import pandas as pd\n",
    "from platform import python_version\n",
    "from datetime import datetime\n",
    "import openpyxl\n",
    "from config import account, user, authenticator, warehouse1, role1, warehouse2, role2, warehouse3 \n",
    "\n",
    "# Shows Python version (SnowPark uses anything below 3.8.x)\n",
    "print(python_version())"
   ]
  },
  {
   "attachments": {},
   "cell_type": "markdown",
   "metadata": {},
   "source": [
    "# GVR PROD Database"
   ]
  },
  {
   "cell_type": "code",
   "execution_count": null,
   "metadata": {},
   "outputs": [],
   "source": [
    "# Create Snowflake Session object (GVR_PROD)\n",
    "connection_parameters = {\n",
    "    \"account\": account,\n",
    "    \"user\": user,\n",
    "    \"authenticator\": authenticator,\n",
    "    \"warehouse\": warehouse1,\n",
    "    \"role\": role1\n",
    "}\n",
    "\n",
    "session = Session.builder.configs(connection_parameters).create()"
   ]
  },
  {
   "attachments": {},
   "cell_type": "markdown",
   "metadata": {},
   "source": [
    "## Primary Keys"
   ]
  },
  {
   "cell_type": "code",
   "execution_count": null,
   "metadata": {},
   "outputs": [],
   "source": [
    "# Grabbing primary keys from PROD\n",
    "primary_keys = session.sql(\"SHOW PRIMARY KEYS IN DATABASE GVR_PROD\").collect()\n",
    "\n",
    "primary_keys= pd.DataFrame(list(primary_keys))"
   ]
  },
  {
   "cell_type": "code",
   "execution_count": null,
   "metadata": {},
   "outputs": [],
   "source": [
    "# Get rid of columns you don't need in PRIMARY_KEYS table\n",
    "primary_keys = primary_keys.drop(['created_on', 'constraint_name', 'rely'], axis=1)\n",
    "primary_keys.head()"
   ]
  },
  {
   "cell_type": "code",
   "execution_count": null,
   "metadata": {},
   "outputs": [],
   "source": [
    "# Rename columns in PRIMARY_KEYS table to match COLUMN_TABLE columns\n",
    "primary_keys = primary_keys.rename(columns= {'database_name': 'DATABASE', 'schema_name': 'SCHEMA', \n",
    "                                             'table_name': 'TABLE_NAME', 'column_name': 'COLUMN_NAME', 'key_sequence': 'PK'})\n",
    "\n",
    "primary_keys.head()"
   ]
  },
  {
   "cell_type": "code",
   "execution_count": null,
   "metadata": {},
   "outputs": [],
   "source": [
    "# Get rid of extra comment column\n",
    "primary_keys = primary_keys.drop(['comment'], axis=1)"
   ]
  },
  {
   "attachments": {},
   "cell_type": "markdown",
   "metadata": {},
   "source": [
    "## Information Schema"
   ]
  },
  {
   "cell_type": "code",
   "execution_count": null,
   "metadata": {},
   "outputs": [],
   "source": [
    "# Information_Schema data\n",
    "column_table = session.sql(\"SELECT TABLE_CATALOG, TABLE_SCHEMA, TABLE_NAME, COLUMN_NAME, DATA_TYPE, CHARACTER_MAXIMUM_LENGTH, NUMERIC_PRECISION, NUMERIC_SCALE, IS_NULLABLE, COMMENT FROM GVR_PROD.INFORMATION_SCHEMA.COLUMNS\").to_pandas()\n",
    "\n",
    "column_table.head()"
   ]
  },
  {
   "cell_type": "code",
   "execution_count": null,
   "metadata": {},
   "outputs": [],
   "source": [
    "# Rename columns in COLUMN_TABLE table\n",
    "column_table = column_table.rename(columns= {'TABLE_CATALOG': 'DATABASE', 'TABLE_SCHEMA': 'SCHEMA', 'CHARACTER_MAXIMUM_LENGTH': 'LENGTH', \n",
    "                                             'NUMERIC_PRECISION': 'PRECISION', 'NUMERIC_SCALE': 'SCALE', 'IS_NULLABLE': 'NULLABLE'})\n",
    "\n",
    "column_table.head()"
   ]
  },
  {
   "cell_type": "code",
   "execution_count": null,
   "metadata": {},
   "outputs": [],
   "source": [
    "# Merge PRIMARY_KEYS and COLUMN_TABLE tables\n",
    "merged_tables = pd.merge(column_table, primary_keys, how='left', on=['DATABASE', 'SCHEMA', 'TABLE_NAME', 'COLUMN_NAME'])\n",
    "\n",
    "merged_tables.head()"
   ]
  },
  {
   "attachments": {},
   "cell_type": "markdown",
   "metadata": {},
   "source": [
    "# Roles"
   ]
  },
  {
   "cell_type": "code",
   "execution_count": null,
   "metadata": {},
   "outputs": [],
   "source": [
    "# Read in the roles table\n",
    "roles = session.sql(\"SELECT TABLE_CATALOG, TABLE_SCHEMA, GRANTEE_NAME, DELETED_ON, NAME FROM GVR_DEV.ADMIN.GRANTS_TO_ROLES_2023_04_26 \").to_pandas()"
   ]
  },
  {
   "cell_type": "code",
   "execution_count": null,
   "metadata": {},
   "outputs": [],
   "source": [
    "# Drop the DELETED_ON column\n",
    "roles = roles.drop(['DELETED_ON'], axis=1)"
   ]
  },
  {
   "cell_type": "code",
   "execution_count": null,
   "metadata": {},
   "outputs": [],
   "source": [
    "# Delete rows that do not have table_catalog as GVR_PROD or GVR_Is360_DEV_DB\n",
    "roles = roles[roles['TABLE_CATALOG'].isin(['GVR_PROD', 'GVR_IS360_DEV_DB'])]"
   ]
  },
  {
   "cell_type": "code",
   "execution_count": null,
   "metadata": {},
   "outputs": [],
   "source": [
    "# Drop duplicates of roles when DATABASE, SCHEMA, & TABLE_NAME\n",
    "roles = roles.drop_duplicates(subset=['GRANTEE_NAME', 'TABLE_CATALOG', 'TABLE_SCHEMA', 'NAME'])"
   ]
  },
  {
   "cell_type": "code",
   "execution_count": null,
   "metadata": {},
   "outputs": [],
   "source": [
    "# Concatenate all the roles that apply to the same table_catalog and table_schema\n",
    "roles['CONCAT_ROLES'] = roles.groupby(['TABLE_CATALOG', 'TABLE_SCHEMA', 'NAME'])['GRANTEE_NAME'].transform(lambda x: ', '.join(sorted(x)))"
   ]
  },
  {
   "cell_type": "code",
   "execution_count": null,
   "metadata": {},
   "outputs": [],
   "source": [
    "# Rename columns\n",
    "roles = roles.rename(columns={'TABLE_CATALOG': 'DATABASE', 'TABLE_SCHEMA': 'SCHEMA', 'NAME': 'TABLE_NAME', 'CONCAT_ROLES': 'ROLES'})"
   ]
  },
  {
   "cell_type": "code",
   "execution_count": null,
   "metadata": {},
   "outputs": [],
   "source": [
    "# Drop the GRANTEE_NAME column\n",
    "roles = roles.drop(['GRANTEE_NAME'], axis=1)"
   ]
  },
  {
   "cell_type": "code",
   "execution_count": null,
   "metadata": {},
   "outputs": [],
   "source": [
    "# Show roles table\n",
    "roles.head()"
   ]
  },
  {
   "attachments": {},
   "cell_type": "markdown",
   "metadata": {},
   "source": [
    "# IS360 Database"
   ]
  },
  {
   "cell_type": "code",
   "execution_count": null,
   "metadata": {},
   "outputs": [],
   "source": [
    "# Create Snowflake Session object (IS360)\n",
    "connection_parameters = {\n",
    "    \"account\": account,\n",
    "    \"user\": user,\n",
    "    \"authenticator\": authenticator,\n",
    "    \"warehouse\": warehouse2,\n",
    "    \"role\": role2\n",
    "}\n",
    "\n",
    "session = Session.builder.configs(connection_parameters).create()"
   ]
  },
  {
   "attachments": {},
   "cell_type": "markdown",
   "metadata": {},
   "source": [
    "## Primary Keys"
   ]
  },
  {
   "cell_type": "code",
   "execution_count": null,
   "metadata": {},
   "outputs": [],
   "source": [
    "# Selecting the UAT data from the Snowflake table\n",
    "primary_keys2 = session.sql(\"SHOW PRIMARY KEYS IN DATABASE GVR_IS360_DEV_DB\").collect()\n",
    "\n",
    "primary_keys2 = pd.DataFrame(list(primary_keys2))"
   ]
  },
  {
   "cell_type": "code",
   "execution_count": null,
   "metadata": {},
   "outputs": [],
   "source": [
    "# Get rid of columns you don't need in PRIMARY_KEYS table\n",
    "primary_keys2 = primary_keys2.drop(['created_on', 'constraint_name', 'rely'], axis=1)\n",
    "\n",
    "primary_keys2.head()"
   ]
  },
  {
   "cell_type": "code",
   "execution_count": null,
   "metadata": {},
   "outputs": [],
   "source": [
    "# Rename columns in PRIMARY_KEYS table to match COLUMN_TABLE columns\n",
    "primary_keys2 = primary_keys2.rename(columns= {'database_name': 'DATABASE', 'schema_name': 'SCHEMA', \n",
    "                                             'table_name': 'TABLE_NAME', 'column_name': 'COLUMN_NAME', 'key_sequence': 'PK'})\n",
    "\n",
    "primary_keys2.head()"
   ]
  },
  {
   "cell_type": "code",
   "execution_count": null,
   "metadata": {},
   "outputs": [],
   "source": [
    "# Get rid of extra comment column\n",
    "primary_keys2 = primary_keys2.drop(['comment'], axis=1)"
   ]
  },
  {
   "attachments": {},
   "cell_type": "markdown",
   "metadata": {},
   "source": [
    "## Information Schema"
   ]
  },
  {
   "cell_type": "code",
   "execution_count": null,
   "metadata": {},
   "outputs": [],
   "source": [
    "# Information_Schema data\n",
    "column_table2 = session.sql(\"SELECT TABLE_CATALOG, TABLE_SCHEMA, TABLE_NAME, COLUMN_NAME, DATA_TYPE, CHARACTER_MAXIMUM_LENGTH, NUMERIC_PRECISION, NUMERIC_SCALE, IS_NULLABLE, COMMENT FROM GVR_IS360_DEV_DB.INFORMATION_SCHEMA.COLUMNS\").to_pandas()\n",
    "\n",
    "column_table2.head()"
   ]
  },
  {
   "cell_type": "code",
   "execution_count": null,
   "metadata": {},
   "outputs": [],
   "source": [
    "# Rename columns in COLUMN_TABLE table\n",
    "column_table2 = column_table2.rename(columns= {'TABLE_CATALOG': 'DATABASE', 'TABLE_SCHEMA': 'SCHEMA', 'CHARACTER_MAXIMUM_LENGTH': 'LENGTH', \n",
    "                                             'NUMERIC_PRECISION': 'PRECISION', 'NUMERIC_SCALE': 'SCALE', 'IS_NULLABLE': 'NULLABLE'})\n",
    "\n",
    "column_table2.head()"
   ]
  },
  {
   "cell_type": "code",
   "execution_count": null,
   "metadata": {},
   "outputs": [],
   "source": [
    "# Merge PRIMARY_KEYS and COLUMN_TABLE tables\n",
    "merged_tables2 = pd.merge(column_table2, primary_keys2, how='left', on=['DATABASE', 'SCHEMA', 'TABLE_NAME', 'COLUMN_NAME'])\n",
    "\n",
    "merged_tables2.head()"
   ]
  },
  {
   "cell_type": "code",
   "execution_count": null,
   "metadata": {},
   "outputs": [],
   "source": [
    "# Get rid of schemas: Information_Schema, Admin, and Stage\n",
    "merged_tables3 = merged_tables2[~merged_tables2['SCHEMA'].isin(['INFORMATION_SCHEMA', 'STAGE', 'ADMIN'])]\n",
    "\n",
    "merged_tables3.head()"
   ]
  },
  {
   "attachments": {},
   "cell_type": "markdown",
   "metadata": {},
   "source": [
    "# Merge GVR PROD with IS360 Database"
   ]
  },
  {
   "cell_type": "code",
   "execution_count": null,
   "metadata": {},
   "outputs": [],
   "source": [
    "# Appending IS360 to GVR_PROD dataframe\n",
    "merged_tables3 = merged_tables.append(merged_tables2, ignore_index=True)\n",
    "\n",
    "merged_tables3.head()"
   ]
  },
  {
   "cell_type": "code",
   "execution_count": null,
   "metadata": {},
   "outputs": [],
   "source": [
    "# # Rename columns in COLUMN_TABLE table\n",
    "# merged_tables3 = column_table2.rename(columns= {'TABLE_CATALOG': 'DATABASE', 'TABLE_SCHEMA': 'SCHEMA', 'CHARACTER_MAXIMUM_LENGTH': 'LENGTH', \n",
    "#                                              'NUMERIC_PRECISION': 'PRECISION', 'NUMERIC_SCALE': 'SCALE', 'IS_NULLABLE': 'NULLABLE'})\n",
    "\n",
    "# column_table2.head()"
   ]
  },
  {
   "attachments": {},
   "cell_type": "markdown",
   "metadata": {},
   "source": [
    "# Zones"
   ]
  },
  {
   "cell_type": "code",
   "execution_count": null,
   "metadata": {},
   "outputs": [],
   "source": [
    "# Generates values for the ZONE column\n",
    "def zone(column):\n",
    "    if column['SCHEMA'] in ['SMS', 'SALESFORCE', 'AX', 'MAC-PAC', 'PROTHEUS_AR', 'PROTHEUS_BR', 'PROTHEUS_CH', 'QAD', 'HFM', 'INSITE360_TELEMETRY', 'AVA_DEMO', 'IOT_CORE', 'AVA_LEGACY', \n",
    "                            'AVA_DEV', 'AVA_CORE_DEV', 'AVA_UAT', 'AVA_QA', 'AVA_CORE_UAT', 'AVA', 'ARCHIVE', 'AVA_CORE_QA', 'AVA_CORE_DEMO', 'PUSH_SALE_EVENT', 'CENSUS']:\n",
    "        val = 'DATALAKE'\n",
    "    elif column['SCHEMA'] in ['DATA_MART_FIN_NA', 'DATA_MART_FIN_LA', 'DATA_MART_AMO_NA', 'DATA_MART_FIN_GLOBAL', 'DATA_MART_CUSTOMER']:\n",
    "        val = 'DATAMART'\n",
    "    elif column['SCHEMA'] in ['DW']:\n",
    "        val = 'DATAWAREHOUSE'\n",
    "    elif column['SCHEMA'] in ['RPT']:\n",
    "        val = 'LEGACY REPORTING'\n",
    "    else:\n",
    "        val = ' '\n",
    "    return val"
   ]
  },
  {
   "cell_type": "code",
   "execution_count": null,
   "metadata": {},
   "outputs": [],
   "source": [
    "# Apply the zone function to the merged_tables3 dataframe\n",
    "merged_tables3['ZONE'] = merged_tables3.apply(zone, axis=1)\n",
    "\n",
    "merged_tables3.head()"
   ]
  },
  {
   "attachments": {},
   "cell_type": "markdown",
   "metadata": {},
   "source": [
    "# Historical Retention"
   ]
  },
  {
   "cell_type": "code",
   "execution_count": null,
   "metadata": {},
   "outputs": [],
   "source": [
    "# Add the historical retention data (hard coded for now, will be available in the future when this historical retention changes)\n",
    "merged_tables3['HISTORICAL_RETENTION'] = '32 DAYS'\n",
    "\n",
    "merged_tables3.head()"
   ]
  },
  {
   "attachments": {},
   "cell_type": "markdown",
   "metadata": {},
   "source": [
    "# Load Times"
   ]
  },
  {
   "attachments": {},
   "cell_type": "markdown",
   "metadata": {},
   "source": [
    "## GVR PROD"
   ]
  },
  {
   "cell_type": "code",
   "execution_count": null,
   "metadata": {},
   "outputs": [],
   "source": [
    "# Load_table created to show when the table was last loaded\n",
    "load_table1 = session.sql(\"SELECT SCHEMA_NAME, TABLE_NAME, LAST_LOAD_TIME FROM GVR_PROD.INFORMATION_SCHEMA.LOAD_HISTORY\").to_pandas()\n",
    "\n",
    "load_table1.head()"
   ]
  },
  {
   "cell_type": "code",
   "execution_count": null,
   "metadata": {},
   "outputs": [],
   "source": [
    "# Change the last_load_time to only be yyyy/mm/dd\n",
    "load_table1['LAST_LOAD_TIME'] = pd.to_datetime(load_table1['LAST_LOAD_TIME']).dt.date\n",
    "\n",
    "load_table1.head()"
   ]
  },
  {
   "cell_type": "code",
   "execution_count": null,
   "metadata": {},
   "outputs": [],
   "source": [
    "# Rename columns in LOAD_TABLE table to match MERGED_TABLES table\n",
    "load_table1 = load_table1.rename(columns= {'SCHEMA_NAME': 'SCHEMA'})\n",
    "\n",
    "load_table1.head()"
   ]
  },
  {
   "cell_type": "code",
   "execution_count": null,
   "metadata": {},
   "outputs": [],
   "source": [
    "# Sort values to show the most recent load times\n",
    "most_recent_times1 = load_table1.sort_values('LAST_LOAD_TIME', ascending=False)\n",
    "\n",
    "most_recent_times1.head()"
   ]
  },
  {
   "cell_type": "code",
   "execution_count": null,
   "metadata": {},
   "outputs": [],
   "source": [
    "# Select only the most recent load time\n",
    "most_recent_times1 = most_recent_times1.drop_duplicates(subset='TABLE_NAME', keep='first')\n",
    "\n",
    "most_recent_times1 = most_recent_times1.reset_index(drop=True)\n",
    "\n",
    "most_recent_times1.head()"
   ]
  },
  {
   "attachments": {},
   "cell_type": "markdown",
   "metadata": {},
   "source": [
    "## IS360"
   ]
  },
  {
   "cell_type": "code",
   "execution_count": null,
   "metadata": {},
   "outputs": [],
   "source": [
    "# Load_table created to show when the table was last loaded\n",
    "load_table2 = session.sql(\"SELECT SCHEMA_NAME, TABLE_NAME, LAST_LOAD_TIME FROM GVR_IS360_DEV_DB.INFORMATION_SCHEMA.LOAD_HISTORY\").to_pandas()\n",
    "\n",
    "load_table2.head()"
   ]
  },
  {
   "cell_type": "code",
   "execution_count": null,
   "metadata": {},
   "outputs": [],
   "source": [
    "# Change the last_load_time to only be yyyy/mm/dd\n",
    "load_table2['LAST_LOAD_TIME'] = pd.to_datetime(load_table2['LAST_LOAD_TIME']).dt.date\n",
    "\n",
    "load_table2.head()"
   ]
  },
  {
   "cell_type": "code",
   "execution_count": null,
   "metadata": {},
   "outputs": [],
   "source": [
    "# Rename columns in LOAD_TABLE table to match MERGED_TABLES table\n",
    "load_table2 = load_table2.rename(columns= {'SCHEMA_NAME': 'SCHEMA'})\n",
    "\n",
    "load_table2.head()"
   ]
  },
  {
   "cell_type": "code",
   "execution_count": null,
   "metadata": {},
   "outputs": [],
   "source": [
    "# Sort values to show the most recent load times\n",
    "most_recent_times2 = load_table2.sort_values('LAST_LOAD_TIME', ascending=False)\n",
    "\n",
    "most_recent_times2.head()"
   ]
  },
  {
   "cell_type": "code",
   "execution_count": null,
   "metadata": {},
   "outputs": [],
   "source": [
    "# Select only the most recent load time \n",
    "most_recent_times2 = most_recent_times2.drop_duplicates(subset='TABLE_NAME', keep='first')\n",
    "\n",
    "most_recent_times2 = most_recent_times2.reset_index(drop=True)\n",
    "\n",
    "most_recent_times2.head()"
   ]
  },
  {
   "attachments": {},
   "cell_type": "markdown",
   "metadata": {},
   "source": [
    "## Appending GVR PROD & IS360 Load Times"
   ]
  },
  {
   "cell_type": "code",
   "execution_count": null,
   "metadata": {},
   "outputs": [],
   "source": [
    "# Append the two most recent times tables together\n",
    "most_recent_times = most_recent_times1.append(most_recent_times2, ignore_index=True)\n",
    "\n",
    "most_recent_times.head()"
   ]
  },
  {
   "attachments": {},
   "cell_type": "markdown",
   "metadata": {},
   "source": [
    "## Merge Load Times To Merged_Tables"
   ]
  },
  {
   "cell_type": "code",
   "execution_count": null,
   "metadata": {},
   "outputs": [],
   "source": [
    "# Merge PRIMARY_KEYS and COLUMN_TABLE tables\n",
    "merged_tables3 = pd.merge(merged_tables3, most_recent_times, how='left', on=['SCHEMA', 'TABLE_NAME'])\n",
    "\n",
    "merged_tables3.head()"
   ]
  },
  {
   "attachments": {},
   "cell_type": "markdown",
   "metadata": {},
   "source": [
    "## Table Type"
   ]
  },
  {
   "cell_type": "code",
   "execution_count": null,
   "metadata": {},
   "outputs": [],
   "source": [
    "# Hard code that all table types are Type1 (History Available)\n",
    "merged_tables3['TABLE_TYPE'] = 'History Available'\n",
    "\n",
    "merged_tables3.head()"
   ]
  },
  {
   "attachments": {},
   "cell_type": "markdown",
   "metadata": {},
   "source": [
    "## Load Strategy"
   ]
  },
  {
   "cell_type": "code",
   "execution_count": null,
   "metadata": {},
   "outputs": [],
   "source": [
    "# Load strategy table\n",
    "load_strat = session.sql(\"SELECT DISTINCT TABLE_NAME, TABLE_TYPE, INCREMENTAL_LOAD, FULL_LOAD FROM GVR_PROD.ADMIN.BUILD_WAREHOUSE\").to_pandas()\n",
    "\n",
    "load_strat.head()"
   ]
  },
  {
   "cell_type": "code",
   "execution_count": null,
   "metadata": {},
   "outputs": [],
   "source": [
    "load_strat = load_strat.rename(columns={'TABLE_TYPE': 'SCHEMA'})\n",
    "\n",
    "load_strat.head()"
   ]
  },
  {
   "cell_type": "code",
   "execution_count": null,
   "metadata": {},
   "outputs": [],
   "source": [
    "load_strat[\"SCHEMA\"] = load_strat[\"SCHEMA\"].replace({'P-BR': 'PROTHEUS_BR', 'P-CH': 'PROTHEUS_CH', 'P-AR': 'PROTHEUS_AR'})"
   ]
  },
  {
   "cell_type": "code",
   "execution_count": null,
   "metadata": {},
   "outputs": [],
   "source": [
    "merged_tables3 = merged_tables3.merge(load_strat, on=['TABLE_NAME', 'SCHEMA'], how='left')\n",
    "\n",
    "merged_tables3.head()"
   ]
  },
  {
   "cell_type": "code",
   "execution_count": null,
   "metadata": {},
   "outputs": [],
   "source": [
    "# Create a function to determine load strategy\n",
    "def determine_load_strategy(column):\n",
    "    if column['INCREMENTAL_LOAD'] > 0:\n",
    "        return 'INCREMENTAL LOAD'\n",
    "    elif column['FULL_LOAD'] > 0:\n",
    "        return 'FULL LOAD'\n",
    "    elif column['INCREMENTAL_LOAD'] > 0 and column['FULL_LOAD'] > 0:\n",
    "        return 'FULL LOAD'\n",
    "    else:\n",
    "        return ' '        "
   ]
  },
  {
   "cell_type": "code",
   "execution_count": null,
   "metadata": {},
   "outputs": [],
   "source": [
    "merged_tables3['LOAD_STRATEGY'] = merged_tables3.apply(determine_load_strategy, axis=1)\n",
    "\n",
    "merged_tables3.head()"
   ]
  },
  {
   "attachments": {},
   "cell_type": "markdown",
   "metadata": {},
   "source": [
    "## Delete Unneccessary Columns"
   ]
  },
  {
   "cell_type": "code",
   "execution_count": null,
   "metadata": {},
   "outputs": [],
   "source": [
    "merged_tables3 = merged_tables3.drop(['INCREMENTAL_LOAD', 'FULL_LOAD'], axis=1)\n",
    "\n",
    "merged_tables3.head()"
   ]
  },
  {
   "attachments": {},
   "cell_type": "markdown",
   "metadata": {},
   "source": [
    "# Join Roles to Catalog"
   ]
  },
  {
   "cell_type": "code",
   "execution_count": null,
   "metadata": {},
   "outputs": [],
   "source": [
    "# Merge the roles table with the merged_tables3 table\n",
    "merged_tables3 = merged_tables3.merge(roles, on=['DATABASE', 'SCHEMA', 'TABLE_NAME'], how='left')\n",
    "\n",
    "merged_tables3.head()"
   ]
  },
  {
   "cell_type": "code",
   "execution_count": null,
   "metadata": {},
   "outputs": [],
   "source": [
    "# Drop duplicates of database, schema, and table_name\n",
    "merged_tables3 = merged_tables3.drop_duplicates(subset=['DATABASE', 'SCHEMA', 'TABLE_NAME', 'COLUMN_NAME'])\n",
    "\n",
    "merged_tables3.head()"
   ]
  },
  {
   "cell_type": "markdown",
   "metadata": {},
   "source": [
    "# Data Profiling Links"
   ]
  },
  {
   "cell_type": "code",
   "execution_count": null,
   "metadata": {},
   "outputs": [],
   "source": [
    "# Function to generate the URL based on schema name\n",
    "def generate_url(database, schema, table_name):\n",
    "    if schema == 'AX' and database == \"GVR_PROD\":\n",
    "        base_url = \"https://vontier.sharepoint.com/sites/GVR-DataAnalytics/Shared%20Documents/Forms/AllItems.aspx?id=%2Fsites%2FGVR%2DDataAnalytics%2FShared%20Documents%2F1%2E%20DA%20Document%20Management%20System%2F5%2E%20Artifacts%2FData%20Lake%20Artifacts%2FData%20Profiling%2FGVR%5FDEV%2FAX%2F\"\n",
    "        parent_url = \"%2Ehtml&viewid=1735308e%2Da40f%2D4ff1%2D8987%2D77fd3877b77c&parent=%2Fsites%2FGVR%2DDataAnalytics%2FShared%20Documents%2F1%2E%20DA%20Document%20Management%20System%2F5%2E%20Artifacts%2FData%20Lake%20Artifacts%2FData%20Profiling%2FGVR%5FDEV%2FAX\"\n",
    "    # elif schema == 'AS400_GER' and database == \"GVR_PROD\":\n",
    "    #     base_url = \"https://vontier.sharepoint.com/sites/GVR-DataAnalytics/Shared%20Documents/Forms/AllItems.aspx?id=%2Fsites%2FGVR%2DDataAnalytics%2FShared%20Documents%2F1%2E%20DA%20Document%20Management%20System%2F5%2E%20Artifacts%2FData%20Lake%20Artifacts%2FData%20Profiling%2FGVR%5FDEV%2FAS400%5FGER%2F\"\n",
    "    #     parent_url = \"%2Ehtml&viewid=1735308e%2Da40f%2D4ff1%2D8987%2D77fd3877b77c&parent=%2Fsites%2FGVR%2DDataAnalytics%2FShared%20Documents%2F1%2E%20DA%20Document%20Management%20System%\"\n",
    "    elif schema == \"HFM\" and database == \"GVR_PROD\":\n",
    "        base_url = \"https://vontier.sharepoint.com/sites/GVR-DataAnalytics/Shared%20Documents/Forms/AllItems.aspx?id=%2Fsites%2FGVR%2DDataAnalytics%2FShared%20Documents%2F1%2E%20DA%20Document%20Management%20System%2F5%2E%20Artifacts%2FData%20Lake%20Artifacts%2FData%20Profiling%2FGVR%5FDEV%2FHFM%2F\"\n",
    "        parent_url = \"%2Ehtml&viewid=1735308e%2Da40f%2D4ff1%2D8987%2D77fd3877b77c&parent=%2Fsites%2FGVR%2DDataAnalytics%2FShared%20Documents%2F1%2E%20DA%20Document%20Management%20System%2F5%2E%20Artifacts%2FData%20Lake%20Artifacts%2FData%20Profiling%2FGVR%5FDEV%2FHFM\"\n",
    "    elif schema == \"MAC-PAC\" and database == \"GVR_PROD\":\n",
    "        base_url = \"https://vontier.sharepoint.com/sites/GVR-DataAnalytics/Shared%20Documents/Forms/AllItems.aspx?id=%2Fsites%2FGVR%2DDataAnalytics%2FShared%20Documents%2F1%2E%20DA%20Document%20Management%20System%2F5%2E%20Artifacts%2FData%20Lake%20Artifacts%2FData%20Profiling%2FGVR%5FDEV%2FMAC%2DPAC%2F\"\n",
    "        parent_url = \"%2Ehtml&viewid=1735308e%2Da40f%2D4ff1%2D8987%2D77fd3877b77c&parent=%2Fsites%2FGVR%2DDataAnalytics%2FShared%20Documents%2F1%2E%20DA%20Document%20Management%20System%2F5%2E%20Artifacts%2FData%20Lake%20Artifacts%2FData%20Profiling%2FGVR%5FDEV%2FMAC%2DPAC\"\n",
    "    elif schema == \"PROTHEUS_AR\" and database == \"GVR_PROD\":\n",
    "        base_url = \"https://vontier.sharepoint.com/sites/GVR-DataAnalytics/Shared%20Documents/Forms/AllItems.aspx?id=%2Fsites%2FGVR%2DDataAnalytics%2FShared%20Documents%2F1%2E%20DA%20Document%20Management%20System%2F5%2E%20Artifacts%2FData%20Lake%20Artifacts%2FData%20Profiling%2FGVR%5FDEV%2FPROTHEUS%5FAR%2F\"\n",
    "        parent_url = \"%2Ehtml&viewid=1735308e%2Da40f%2D4ff1%2D8987%2D77fd3877b77c&parent=%2Fsites%2FGVR%2DDataAnalytics%2FShared%20Documents%2F1%2E%20DA%20Document%20Management%20System%2F5%2E%20Artifacts%2FData%20Lake%20Artifacts%2FData%20Profiling%2FGVR%5FDEV%2FPROTHEUS%5FAR\"\n",
    "    elif schema == \"PROTHEUS_BR\" and database == \"GVR_PROD\":\n",
    "        base_url = \"https://vontier.sharepoint.com/sites/GVR-DataAnalytics/Shared%20Documents/Forms/AllItems.aspx?id=%2Fsites%2FGVR%2DDataAnalytics%2FShared%20Documents%2F1%2E%20DA%20Document%20Management%20System%2F5%2E%20Artifacts%2FData%20Lake%20Artifacts%2FData%20Profiling%2FGVR%5FDEV%2FPROTHEUS%5FBR%2F\"\n",
    "        parent_url = \"%2Ehtml&viewid=1735308e%2Da40f%2D4ff1%2D8987%2D77fd3877b77c&parent=%2Fsites%2FGVR%2DDataAnalytics%2FShared%20Documents%2F1%2E%20DA%20Document%20Management%20System%2F5%2E%20Artifacts%2FData%20Lake%20Artifacts%2FData%20Profiling%2FGVR%5FDEV%2FPROTHEUS%5FBR\"\n",
    "    elif schema == \"PROTHEUS_CH\" and database == \"GVR_PROD\":\n",
    "        base_url = \"https://vontier.sharepoint.com/sites/GVR-DataAnalytics/Shared%20Documents/Forms/AllItems.aspx?id=%2Fsites%2FGVR%2DDataAnalytics%2FShared%20Documents%2F1%2E%20DA%20Document%20Management%20System%2F5%2E%20Artifacts%2FData%20Lake%20Artifacts%2FData%20Profiling%2FGVR%5FDEV%2FPROTHEUS%5FCH%2F\"\n",
    "        parent_url = \"%2Ehtml&viewid=1735308e%2Da40f%2D4ff1%2D8987%2D77fd3877b77c&parent=%2Fsites%2FGVR%2DDataAnalytics%2FShared%20Documents%2F1%2E%20DA%20Document%20Management%20System%2F5%2E%20Artifacts%2FData%20Lake%20Artifacts%2FData%20Profiling%2FGVR%5FDEV%2FPROTHEUS%5FCH\"\n",
    "    elif schema == \"QAD\" and database == \"GVR_PROD\":\n",
    "        base_url = \"https://vontier.sharepoint.com/sites/GVR-DataAnalytics/Shared%20Documents/Forms/AllItems.aspx?id=%2Fsites%2FGVR%2DDataAnalytics%2FShared%20Documents%2F1%2E%20DA%20Document%20Management%20System%2F5%2E%20Artifacts%2FData%20Lake%20Artifacts%2FData%20Profiling%2FGVR%5FDEV%2FQAD%2F\"\n",
    "        parent_url = \"%2Ehtml&viewid=1735308e%2Da40f%2D4ff1%2D8987%2D77fd3877b77c&parent=%2Fsites%2FGVR%2DDataAnalytics%2FShared%20Documents%2F1%2E%20DA%20Document%20Management%20System%2F5%2E%20Artifacts%2FData%20Lake%20Artifacts%2FData%20Profiling%2FGVR%5FDEV%2FQAD\"\n",
    "    elif schema == \"SMS\" and database == \"GVR_PROD\":\n",
    "        base_url = \"https://vontier.sharepoint.com/sites/GVR-DataAnalytics/Shared%20Documents/Forms/AllItems.aspx?id=%2Fsites%2FGVR%2DDataAnalytics%2FShared%20Documents%2F1%2E%20DA%20Document%20Management%20System%2F5%2E%20Artifacts%2FData%20Lake%20Artifacts%2FData%20Profiling%2FGVR%5FDEV%2FSMS%2F\"\n",
    "        parent_url = \"%2Ehtml&viewid=1735308e%2Da40f%2D4ff1%2D8987%2D77fd3877b77c&parent=%2Fsites%2FGVR%2DDataAnalytics%2FShared%20Documents%2F1%2E%20DA%20Document%20Management%20System%2F5%2E%20Artifacts%2FData%20Lake%20Artifacts%2FData%20Profiling%2FGVR%5FDEV%2FSMS\"\n",
    "    elif schema == \"AVA\" and database == \"GVR_IS360_DEV_DB\":\n",
    "        base_url = \"https://vontier.sharepoint.com/sites/GVR-DataAnalytics/Shared%20Documents/Forms/AllItems.aspx?id=%2Fsites%2FGVR%2DDataAnalytics%2FShared%20Documents%2F1%2E%20DA%20Document%20Management%20System%2F5%2E%20Artifacts%2FData%20Lake%20Artifacts%2FData%20Profiling%2FGVR%5FIS360%5FDEV%5FDB%2FAVA%2F\"\n",
    "        parent_url = \"%2Ehtml&viewid=1735308e%2Da40f%2D4ff1%2D8987%2D77fd3877b77c&parent=%2Fsites%2FGVR%2DDataAnalytics%2FShared%20Documents%2F1%2E%20DA%20Document%20Management%20System%2F5%2E%20Artifacts%2FData%20Lake%20Artifacts%2FData%20Profiling%2FGVR%5FIS360%5FDEV%5FDB%2FAVA\"\n",
    "    elif schema == \"AVA_CORE\" and database == \"GVR_IS360_DEV_DB\":\n",
    "        base_url = \"https://vontier.sharepoint.com/sites/GVR-DataAnalytics/Shared%20Documents/Forms/AllItems.aspx?id=%2Fsites%2FGVR%2DDataAnalytics%2FShared%20Documents%2F1%2E%20DA%20Document%20Management%20System%2F5%2E%20Artifacts%2FData%20Lake%20Artifacts%2FData%20Profiling%2FGVR%5FIS360%5FDEV%5FDB%2FAVA%5FCORE&viewid=1735308e%2Da40f%2D4ff1%2D8987%2D77fd3877b77c\"\n",
    "        parent_url = \"\"\n",
    "    elif schema == \"AVA_CORE_DEMO\" and database == \"GVR_IS360_PROD_DB\":\n",
    "        base_url = \"https://vontier.sharepoint.com/sites/GVR-DataAnalytics/Shared%20Documents/Forms/AllItems.aspx?id=%2Fsites%2FGVR%2DDataAnalytics%2FShared%20Documents%2F1%2E%20DA%20Document%20Management%20System%2F5%2E%20Artifacts%2FData%20Lake%20Artifacts%2FData%20Profiling%2FGVR%5FIS360%5FDEV%5FDB%2FAVA%5FCORE%5FDEMO&viewid=1735308e%2Da40f%2D4ff1%2D8987%2D77fd3877b77c\"\n",
    "        parent_url = \"\"\n",
    "    elif schema == \"AVA_CORE_DEV\" and database == \"GVR_IS360_DEV_DB\":\n",
    "        base_url = \"https://vontier.sharepoint.com/sites/GVR-DataAnalytics/Shared%20Documents/Forms/AllItems.aspx?id=%2Fsites%2FGVR%2DDataAnalytics%2FShared%20Documents%2F1%2E%20DA%20Document%20Management%20System%2F5%2E%20Artifacts%2FData%20Lake%20Artifacts%2FData%20Profiling%2FGVR%5FIS360%5FDEV%5FDB%2FAVA%5FCORE%5FDEV%2F\"\n",
    "        parent_url = \"%2Ehtml&viewid=1735308e%2Da40f%2D4ff1%2D8987%2D77fd3877b77c&parent=%2Fsites%2FGVR%2DDataAnalytics%2FShared%20Documents%2F1%2E%20DA%20Document%20Management%20System%2F5%2E%20Artifacts%2FData%20Lake%20Artifacts%2FData%20Profiling%2FGVR%5FIS360%5FDEV%5FDB%2FAVA%5FCORE%5FDEV\"\n",
    "    elif schema == \"AVA_CORE_QA\" and database == \"GVR_IS360_DEV_DB\":\n",
    "        base_url = \"https://vontier.sharepoint.com/sites/GVR-DataAnalytics/Shared%20Documents/Forms/AllItems.aspx?id=%2Fsites%2FGVR%2DDataAnalytics%2FShared%20Documents%2F1%2E%20DA%20Document%20Management%20System%2F5%2E%20Artifacts%2FData%20Lake%20Artifacts%2FData%20Profiling%2FGVR%5FIS360%5FDEV%5FDB%2FAVA%5FCORE%5FQA%2F\"\n",
    "        parent_url = \"%2Ehtml&viewid=1735308e%2Da40f%2D4ff1%2D8987%2D77fd3877b77c&parent=%2Fsites%2FGVR%2DDataAnalytics%2FShared%20Documents%2F1%2E%20DA%20Document%20Management%20System%2F5%2E%20Artifacts%2FData%20Lake%20Artifacts%2FData%20Profiling%2FGVR%5FIS360%5FDEV%5FDB%2FAVA%5FCORE%5FQA\"\n",
    "    elif schema == \"AVA_CORE_UAT\" and database == \"GVR_IS360_DEV_DB\":\n",
    "        base_url = \"https://vontier.sharepoint.com/sites/GVR-DataAnalytics/Shared%20Documents/Forms/AllItems.aspx?id=%2Fsites%2FGVR%2DDataAnalytics%2FShared%20Documents%2F1%2E%20DA%20Document%20Management%20System%2F5%2E%20Artifacts%2FData%20Lake%20Artifacts%2FData%20Profiling%2FGVR%5FIS360%5FDEV%5FDB%2FAVA%5FCORE%5FUAT%2F\"\n",
    "        parent_url = \"%2Ehtml&viewid=1735308e%2Da40f%2D4ff1%2D8987%2D77fd3877b77c&parent=%2Fsites%2FGVR%2DDataAnalytics%2FShared%20Documents%2F1%2E%20DA%20Document%20Management%20System%2F5%2E%20Artifacts%2FData%20Lake%20Artifacts%2FData%20Profiling%2FGVR%5FIS360%5FDEV%5FDB%2FAVA%5FCORE%5FUAT\"\n",
    "    elif schema == \"AVA_DEV\" and database == \"GVR_IS360_DEV_DB\":\n",
    "        base_url = \"https://vontier.sharepoint.com/sites/GVR-DataAnalytics/Shared%20Documents/Forms/AllItems.aspx?id=%2Fsites%2FGVR%2DDataAnalytics%2FShared%20Documents%2F1%2E%20DA%20Document%20Management%20System%2F5%2E%20Artifacts%2FData%20Lake%20Artifacts%2FData%20Profiling%2FGVR%5FIS360%5FDEV%5FDB%2FAVA%5FDEV%2F\"\n",
    "        parent_url = \"%2Ehtml&viewid=1735308e%2Da40f%2D4ff1%2D8987%2D77fd3877b77c&parent=%2Fsites%2FGVR%2DDataAnalytics%2FShared%20Documents%2F1%2E%20DA%20Document%20Management%20System%2F5%2E%20Artifacts%2FData%20Lake%20Artifacts%2FData%20Profiling%2FGVR%5FIS360%5FDEV%5FDB%2FAVA%5FDEV\"\n",
    "    elif schema == \"AVA_QA\" and database == \"GVR_IS360_DEV_DB\":\n",
    "        base_url = \"https://vontier.sharepoint.com/sites/GVR-DataAnalytics/Shared%20Documents/Forms/AllItems.aspx?id=%2Fsites%2FGVR%2DDataAnalytics%2FShared%20Documents%2F1%2E%20DA%20Document%20Management%20System%2F5%2E%20Artifacts%2FData%20Lake%20Artifacts%2FData%20Profiling%2FGVR%5FIS360%5FDEV%5FDB%2FAVA%5FQA%2F\"\n",
    "        parent_url = \"%2Ehtml&viewid=1735308e%2Da40f%2D4ff1%2D8987%2D77fd3877b77c&parent=%2Fsites%2FGVR%2DDataAnalytics%2FShared%20Documents%2F1%2E%20DA%20Document%20Management%20System%2F5%2E%20Artifacts%2FData%20Lake%20Artifacts%2FData%20Profiling%2FGVR%5FIS360%5FDEV%5FDB%2FAVA%5FQA\"\n",
    "    elif schema == \"AVA_UAT\" and database == \"GVR_IS360_DEV_DB\":\n",
    "        base_url = \"https://vontier.sharepoint.com/sites/GVR-DataAnalytics/Shared%20Documents/Forms/AllItems.aspx?id=%2Fsites%2FGVR%2DDataAnalytics%2FShared%20Documents%2F1%2E%20DA%20Document%20Management%20System%2F5%2E%20Artifacts%2FData%20Lake%20Artifacts%2FData%20Profiling%2FGVR%5FIS360%5FDEV%5FDB%2FAVA%5FUAT%2F\"\n",
    "        parent_url = \"%2Ehtml&viewid=1735308e%2Da40f%2D4ff1%2D8987%2D77fd3877b77c&parent=%2Fsites%2FGVR%2DDataAnalytics%2FShared%20Documents%2F1%2E%20DA%20Document%20Management%20System%2F5%2E%20Artifacts%2FData%20Lake%20Artifacts%2FData%20Profiling%2FGVR%5FIS360%5FDEV%5FDB%2FAVA%5FUAT\"\n",
    "    elif schema == \"INSITE360_TELEMETRY\" and database == \"GVR_IS360_DEV_DB\":\n",
    "        base_url = \"https://vontier.sharepoint.com/sites/GVR-DataAnalytics/Shared%20Documents/Forms/AllItems.aspx?id=%2Fsites%2FGVR%2DDataAnalytics%2FShared%20Documents%2F1%2E%20DA%20Document%20Management%20System%2F5%2E%20Artifacts%2FData%20Lake%20Artifacts%2FData%20Profiling%2FGVR%5FIS360%5FDEV%5FDB%2FINSITE360%5FTELEMETRY%2F\"\n",
    "        parent_url = \"%2Ehtml&viewid=1735308e%2Da40f%2D4ff1%2D8987%2D77fd3877b77c&parent=%2Fsites%2FGVR%2DDataAnalytics%2FShared%20Documents%2F1%2E%20DA%20Document%20Management%20System%2F5%2E%20Artifacts%2FData%20Lake%20Artifacts%2FData%20Profiling%2FGVR%5FIS360%5FDEV%5FDB%2FINSITE360%5FTELEMETRY\"\n",
    "    elif schema == \"PUSH_SALE_EVENT\" and database == \"GVR_IS360_DEV_DB\":\n",
    "        base_url = \"https://vontier.sharepoint.com/sites/GVR-DataAnalytics/Shared%20Documents/Forms/AllItems.aspx?id=%2Fsites%2FGVR%2DDataAnalytics%2FShared%20Documents%2F1%2E%20DA%20Document%20Management%20System%2F5%2E%20Artifacts%2FData%20Lake%20Artifacts%2FData%20Profiling%2FGVR%5FIS360%5FDEV%5FDB%2FPUSH%5FSALE%5FEVENT%2F\"\n",
    "        parent_url = \"%2Ehtml&viewid=1735308e%2Da40f%2D4ff1%2D8987%2D77fd3877b77c&parent=%2Fsites%2FGVR%2DDataAnalytics%2FShared%20Documents%2F1%2E%20DA%20Document%20Management%20System%2F5%2E%20Artifacts%2FData%20Lake%20Artifacts%2FData%20Profiling%2FGVR%5FIS360%5FDEV%5FDB%2FPUSH%5FSALE%5FEVENT\"\n",
    "    else:\n",
    "        return None\n",
    "\n",
    "    table_url = base_url + table_name.replace(\"_\", \"%5F\") + parent_url\n",
    "\n",
    "    return table_url\n",
    "\n",
    "# Make a new column with the URL\n",
    "merged_tables3['DATA_PROFILE_URL'] = merged_tables3.apply(lambda row: generate_url(row['DATABASE'], row['SCHEMA'], row['TABLE_NAME']), axis=1)"
   ]
  },
  {
   "cell_type": "code",
   "execution_count": null,
   "metadata": {},
   "outputs": [],
   "source": [
    "merged_tables3.head()"
   ]
  },
  {
   "cell_type": "markdown",
   "metadata": {},
   "source": [
    "# Drop Schemas"
   ]
  },
  {
   "cell_type": "code",
   "execution_count": null,
   "metadata": {},
   "outputs": [],
   "source": [
    "# Get rid of schemas: Information_Schema, Admin, and Stage\n",
    "merged_tables3 = merged_tables3[~merged_tables3['SCHEMA'].isin(['INFORMATION_SCHEMA', 'STAGE', 'ADMIN',  'ARCHIVE', \n",
    "                                                                'AVA_DEMO', 'AVA_LEGACY', 'CENSUS', 'IOT_CORE'])]\n",
    "\n",
    "merged_tables3.head()"
   ]
  },
  {
   "cell_type": "code",
   "execution_count": null,
   "metadata": {},
   "outputs": [],
   "source": [
    "# Verify the columns are all capitalized\n",
    "merged_tables3.columns = merged_tables3.columns.str.upper()\n",
    "\n",
    "merged_tables3.head()"
   ]
  },
  {
   "cell_type": "code",
   "execution_count": null,
   "metadata": {},
   "outputs": [],
   "source": [
    "# Verify the length of the DataFrame to confirm that all rows were inserted\n",
    "print(len(merged_tables3))"
   ]
  },
  {
   "attachments": {},
   "cell_type": "markdown",
   "metadata": {},
   "source": [
    "# Write to Excel"
   ]
  },
  {
   "cell_type": "code",
   "execution_count": null,
   "metadata": {},
   "outputs": [],
   "source": [
    "# with pd.ExcelWriter('Catalog/Data_Catalog.xlsx', mode='a', engine='openpyxl', if_sheet_exists=\"replace\",) as writer:\n",
    "#     merged_tables3.to_excel(writer, sheet_name='Catalog', index=False)"
   ]
  },
  {
   "attachments": {},
   "cell_type": "markdown",
   "metadata": {},
   "source": [
    "# DataFrame to Snowflake Table"
   ]
  },
  {
   "cell_type": "code",
   "execution_count": null,
   "metadata": {},
   "outputs": [],
   "source": [
    "import snowflake.connector\n",
    "import pandas as pd\n",
    "import numpy as np\n",
    "\n",
    "# Snowflake connection parameters\n",
    "conn_params = {\n",
    "    \"account\": account,\n",
    "    \"user\": user,\n",
    "    \"authenticator\": authenticator,\n",
    "    \"warehouse\": warehouse3,\n",
    "    \"role\": role1\n",
    "}\n",
    "\n",
    "# Create a table name\n",
    "table_name = 'GVR_DEV.UDD.CATALOG'\n",
    "\n",
    "# Establish connection to Snowflake\n",
    "conn = snowflake.connector.connect(**conn_params)\n",
    "\n",
    "# Create the table in Snowflake\n",
    "with conn.cursor() as cursor:\n",
    "    cursor.execute(f\"\"\"\n",
    "        CREATE OR REPLACE TABLE {table_name} (\n",
    "            DATABASE TEXT(50) NOT NULL,\n",
    "            SCHEMA TEXT(50) NOT NULL,\n",
    "            TABLE_NAME TEXT(100) NOT NULL,\n",
    "            COLUMN_NAME TEXT(50) NOT NULL,\n",
    "            DATA_TYPE TEXT(25) NOT NULL,\n",
    "            LENGTH NUMBER(15),\n",
    "            PRECISION NUMBER(5),\n",
    "            SCALE NUMBER(5),\n",
    "            NULLABLE TEXT(3) NOT NULL,\n",
    "            COMMENT TEXT(500),\n",
    "            PRIMARY_KEY NUMBER(2),\n",
    "            ZONE TEXT(25) NOT NULL,\n",
    "            HISTORICAL_RETENTION TEXT(25) NOT NULL,\n",
    "            LAST_LOAD_TIME TIMESTAMP_NTZ(9),\n",
    "            TABLE_TYPE TEXT(25) NOT NULL,\n",
    "            LOAD_STRATEGY TEXT(25),\n",
    "            ROLES TEXT(750),\n",
    "            DATA_PROFILE_URL TEXT(750)\n",
    "        )\n",
    "    \"\"\")\n",
    "\n",
    "# Replace NaN values in the DataFrame with appropriate default values\n",
    "merged_tables3_cleaned = merged_tables3.replace({np.nan: None})\n",
    "\n",
    "# Prepare the INSERT statement\n",
    "insert_query = f\"\"\"\n",
    "    INSERT INTO {table_name} VALUES (?, ?, ?, ?, ?, ?, ?, ?, ?, ?, ?, ?, ?, ?, ?, ?, ?, ?)\n",
    "\"\"\"\n",
    "\n",
    "# Execute the INSERT statement for each row in the DataFrame\n",
    "with conn.cursor() as cursor:\n",
    "    for row in merged_tables3_cleaned.itertuples(index=False, name=None):\n",
    "        cursor.execute(insert_query, row)\n",
    "\n",
    "# Close the connection\n",
    "conn.close()\n"
   ]
  }
 ],
 "metadata": {
  "kernelspec": {
   "display_name": "snowparkenv",
   "language": "python",
   "name": "python3"
  },
  "language_info": {
   "codemirror_mode": {
    "name": "ipython",
    "version": 3
   },
   "file_extension": ".py",
   "mimetype": "text/x-python",
   "name": "python",
   "nbconvert_exporter": "python",
   "pygments_lexer": "ipython3",
   "version": "3.8.15"
  },
  "orig_nbformat": 4
 },
 "nbformat": 4,
 "nbformat_minor": 2
}
